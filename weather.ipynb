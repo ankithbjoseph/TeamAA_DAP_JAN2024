{
 "cells": [
  {
   "cell_type": "markdown",
   "metadata": {},
   "source": [
    "READING DATA FROM API AND WRITING TO DB"
   ]
  },
  {
   "cell_type": "code",
   "execution_count": null,
   "metadata": {},
   "outputs": [],
   "source": [
    "import requests\n",
    "import pandas as pd\n",
    "from pymongo import MongoClient\n",
    "from bson import json_util\n",
    "import json\n",
    "\n",
    "def fetch_data_from_api(api_url):\n",
    "    try:\n",
    "        response = requests.get(api_url)\n",
    "        if response.status_code == 200:\n",
    "            data = response.json()  \n",
    "            return data\n",
    "        else:\n",
    "            print(\"Error: Unable to fetch data from API. Status code:\", response.status_code)\n",
    "            return None\n",
    "    except requests.RequestException as e:\n",
    "        print(\"Error: Unable to fetch data from API:\", str(e))\n",
    "        return None\n",
    "api_url = \"https://archive-api.open-meteo.com/v1/archive?latitude=53.3331&longitude=-6.2489&start_date=2024-03-30&end_date=2024-04-13&hourly=temperature_2m,relative_humidity_2m,dew_point_2m,rain,snowfall,wind_speed_10m,wind_speed_100m,wind_direction_10m,wind_direction_100m,wind_gusts_10m\"\n",
    "data = fetch_data_from_api(api_url)\n",
    "if data:\n",
    "    df = pd.DataFrame(data)\n",
    "client = MongoClient(\"mongodb://%s:%s@127.0.0.1\" % (\"dap\", \"dap\"))\n",
    "db = client['test_database']\n",
    "collection = db['weather']\n",
    "records = json.loads(df.to_json(orient='records'))\n",
    "collection.insert_many(records)\n"
   ]
  },
  {
   "cell_type": "code",
   "execution_count": null,
   "metadata": {},
   "outputs": [],
   "source": [
    "\n"
   ]
  },
  {
   "cell_type": "code",
   "execution_count": null,
   "metadata": {},
   "outputs": [],
   "source": []
  },
  {
   "cell_type": "code",
   "execution_count": null,
   "metadata": {},
   "outputs": [],
   "source": []
  },
  {
   "cell_type": "code",
   "execution_count": null,
   "metadata": {},
   "outputs": [],
   "source": []
  },
  {
   "cell_type": "code",
   "execution_count": null,
   "metadata": {},
   "outputs": [],
   "source": []
  },
  {
   "cell_type": "code",
   "execution_count": null,
   "metadata": {},
   "outputs": [],
   "source": []
  }
 ],
 "metadata": {
  "kernelspec": {
   "display_name": "Python 3",
   "language": "python",
   "name": "python3"
  },
  "language_info": {
   "codemirror_mode": {
    "name": "ipython",
    "version": 3
   },
   "file_extension": ".py",
   "mimetype": "text/x-python",
   "name": "python",
   "nbconvert_exporter": "python",
   "pygments_lexer": "ipython3",
   "version": "3.11.5"
  }
 },
 "nbformat": 4,
 "nbformat_minor": 2
}
