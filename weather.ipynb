{
 "cells": [
  {
   "cell_type": "markdown",
   "metadata": {},
   "source": [
    "DATA FROM API"
   ]
  },
  {
   "cell_type": "code",
   "execution_count": 1,
   "metadata": {},
   "outputs": [
    {
     "name": "stdout",
     "output_type": "stream",
     "text": [
      "DataFrame created successfully:\n",
      "                       latitude  longitude  generationtime_ms  \\\n",
      "time                  53.321613  -6.501923           0.316024   \n",
      "temperature_2m        53.321613  -6.501923           0.316024   \n",
      "relative_humidity_2m  53.321613  -6.501923           0.316024   \n",
      "dew_point_2m          53.321613  -6.501923           0.316024   \n",
      "rain                  53.321613  -6.501923           0.316024   \n",
      "snowfall              53.321613  -6.501923           0.316024   \n",
      "wind_speed_10m        53.321613  -6.501923           0.316024   \n",
      "wind_speed_100m       53.321613  -6.501923           0.316024   \n",
      "wind_direction_10m    53.321613  -6.501923           0.316024   \n",
      "wind_direction_100m   53.321613  -6.501923           0.316024   \n",
      "wind_gusts_10m        53.321613  -6.501923           0.316024   \n",
      "\n",
      "                      utc_offset_seconds timezone timezone_abbreviation  \\\n",
      "time                                   0      GMT                   GMT   \n",
      "temperature_2m                         0      GMT                   GMT   \n",
      "relative_humidity_2m                   0      GMT                   GMT   \n",
      "dew_point_2m                           0      GMT                   GMT   \n",
      "rain                                   0      GMT                   GMT   \n",
      "snowfall                               0      GMT                   GMT   \n",
      "wind_speed_10m                         0      GMT                   GMT   \n",
      "wind_speed_100m                        0      GMT                   GMT   \n",
      "wind_direction_10m                     0      GMT                   GMT   \n",
      "wind_direction_100m                    0      GMT                   GMT   \n",
      "wind_gusts_10m                         0      GMT                   GMT   \n",
      "\n",
      "                      elevation hourly_units  \\\n",
      "time                       14.0      iso8601   \n",
      "temperature_2m             14.0           °C   \n",
      "relative_humidity_2m       14.0            %   \n",
      "dew_point_2m               14.0           °C   \n",
      "rain                       14.0           mm   \n",
      "snowfall                   14.0           cm   \n",
      "wind_speed_10m             14.0         km/h   \n",
      "wind_speed_100m            14.0         km/h   \n",
      "wind_direction_10m         14.0            °   \n",
      "wind_direction_100m        14.0            °   \n",
      "wind_gusts_10m             14.0         km/h   \n",
      "\n",
      "                                                                 hourly  \n",
      "time                  [2024-03-30T00:00, 2024-03-30T01:00, 2024-03-3...  \n",
      "temperature_2m        [5.8, 4.8, 5.1, 5.0, 4.9, 4.9, 5.0, 5.6, 7.4, ...  \n",
      "relative_humidity_2m  [88, 91, 91, 91, 91, 91, 90, 86, 78, 74, 65, 5...  \n",
      "dew_point_2m          [4.0, 3.5, 3.7, 3.6, 3.5, 3.5, 3.4, 3.5, 3.8, ...  \n",
      "rain                  [0.0, 0.0, 0.0, 0.0, 0.0, 0.0, 0.0, 0.0, 0.0, ...  \n",
      "snowfall              [0.0, 0.0, 0.0, 0.0, 0.0, 0.0, 0.0, 0.0, 0.0, ...  \n",
      "wind_speed_10m        [12.6, 7.5, 10.7, 14.8, 14.8, 14.0, 13.0, 12.1...  \n",
      "wind_speed_100m       [26.1, 19.3, 24.0, 29.6, 30.1, 28.7, 27.4, 25....  \n",
      "wind_direction_10m    [200, 235, 213, 209, 206, 206, 199, 190, 186, ...  \n",
      "wind_direction_100m   [200, 217, 206, 206, 205, 204, 197, 191, 187, ...  \n",
      "wind_gusts_10m        [25.6, 12.6, 18.7, 26.6, 28.4, 27.7, 25.9, 23....  \n"
     ]
    }
   ],
   "source": [
    "import requests\n",
    "import pandas as pd\n",
    "\n",
    "def fetch_data_from_api(api_url):\n",
    "    try:\n",
    "        response = requests.get(api_url)\n",
    "        if response.status_code == 200:\n",
    "            data = response.json()  \n",
    "            return data\n",
    "        else:\n",
    "            print(\"Error: Unable to fetch data from API. Status code:\", response.status_code)\n",
    "            return None\n",
    "    except requests.RequestException as e:\n",
    "        print(\"Error: Unable to fetch data from API:\", str(e))\n",
    "        return None\n",
    "api_url = \"https://archive-api.open-meteo.com/v1/archive?latitude=53.3331&longitude=-6.2489&start_date=2024-03-30&end_date=2024-04-13&hourly=temperature_2m,relative_humidity_2m,dew_point_2m,rain,snowfall,wind_speed_10m,wind_speed_100m,wind_direction_10m,wind_direction_100m,wind_gusts_10m\"\n",
    "data = fetch_data_from_api(api_url)\n",
    "if data:\n",
    "    df = pd.DataFrame(data)\n",
    "    print(\"DataFrame created successfully:\")\n",
    "    print(df)\n"
   ]
  }
 ],
 "metadata": {
  "kernelspec": {
   "display_name": "Python 3",
   "language": "python",
   "name": "python3"
  },
  "language_info": {
   "codemirror_mode": {
    "name": "ipython",
    "version": 3
   },
   "file_extension": ".py",
   "mimetype": "text/x-python",
   "name": "python",
   "nbconvert_exporter": "python",
   "pygments_lexer": "ipython3",
   "version": "3.11.5"
  }
 },
 "nbformat": 4,
 "nbformat_minor": 2
}
