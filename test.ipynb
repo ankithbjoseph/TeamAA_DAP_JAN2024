{
 "cells": [
  {
   "cell_type": "code",
   "execution_count": 6,
   "metadata": {},
   "outputs": [
    {
     "name": "stdout",
     "output_type": "stream",
     "text": [
      "Coordinates 52.540000915527344°E 13.419998168945312°N\n",
      "Elevation 60.0 m asl\n",
      "Timezone None None\n",
      "Timezone difference to GMT+0 0 s\n",
      "Current time 1711819800\n",
      "Current temperature_2m 19.200000762939453\n"
     ]
    }
   ],
   "source": [
    "# pip install openmeteo-requests\n",
    "\n",
    "import openmeteo_requests\n",
    "from openmeteo_sdk.Variable import Variable\n",
    "\n",
    "om = openmeteo_requests.Client()\n",
    "params = {\n",
    "    \"latitude\": 52.54,\n",
    "    \"longitude\": 13.41,\n",
    "    \"hourly\": [\"temperature_2m\", \"precipitation\"],\n",
    "    \"current\": [\"temperature_2m\"]\n",
    "}\n",
    "\n",
    "responses = om.weather_api(\"https://api.open-meteo.com/v1/forecast\", params=params)\n",
    "response = responses[0]\n",
    "print(f\"Coordinates {response.Latitude()}°E {response.Longitude()}°N\")\n",
    "print(f\"Elevation {response.Elevation()} m asl\")\n",
    "print(f\"Timezone {response.Timezone()} {response.TimezoneAbbreviation()}\")\n",
    "print(f\"Timezone difference to GMT+0 {response.UtcOffsetSeconds()} s\")\n",
    "\n",
    "# Current values\n",
    "current = response.Current()\n",
    "current_variables = list(map(lambda i: current.Variables(i), range(0, current.VariablesLength())))\n",
    "current_temperature_2m = next(filter(lambda x: x.Variable() == Variable.temperature and x.Altitude() == 2, current_variables))\n",
    "\n",
    "print(f\"Current time {current.Time()}\")\n",
    "print(f\"Current temperature_2m {current_temperature_2m.Value()}\")\n"
   ]
  }
 ],
 "metadata": {
  "kernelspec": {
   "display_name": "base",
   "language": "python",
   "name": "python3"
  },
  "language_info": {
   "codemirror_mode": {
    "name": "ipython",
    "version": 3
   },
   "file_extension": ".py",
   "mimetype": "text/x-python",
   "name": "python",
   "nbconvert_exporter": "python",
   "pygments_lexer": "ipython3",
   "version": "3.11.5"
  }
 },
 "nbformat": 4,
 "nbformat_minor": 2
}
