{
 "cells": [
  {
   "cell_type": "markdown",
   "metadata": {},
   "source": [
    "## Dataset 1\n",
    "\n",
    "### Pedestrian Footfall DCC\n",
    "\n",
    "Pedestrian footfall counts of people at a number of locations in Dublin city. Passersby are counted and logged every hour, 24 hours per day, 7 days per week using a network of PYRO-Box people counters located throughout central Dublin. Data is provided by Dublin City Council and the NTA.\n"
   ]
  },
  {
   "cell_type": "markdown",
   "metadata": {},
   "source": [
    "### CKAN Data API \n",
    "#### endpoint\n",
    "- Query:https://data.smartdublin.ie/api/3/action/datastore_search\n",
    "- Query (via SQL):https://data.smartdublin.ie/api/3/action/datastore_search_sql\n",
    "\n",
    "`resource_id = d0ed5dfa-d5ff-43c4-825c-d1157e07dc70`\n",
    "`resource_id=0d0f0de2-d82d-404e-8da2-d238de985532`\n"
   ]
  },
  {
   "cell_type": "code",
   "execution_count": 2,
   "metadata": {},
   "outputs": [
    {
     "data": {
      "text/html": [
       "<div>\n",
       "<style scoped>\n",
       "    .dataframe tbody tr th:only-of-type {\n",
       "        vertical-align: middle;\n",
       "    }\n",
       "\n",
       "    .dataframe tbody tr th {\n",
       "        vertical-align: top;\n",
       "    }\n",
       "\n",
       "    .dataframe thead th {\n",
       "        text-align: right;\n",
       "    }\n",
       "</style>\n",
       "<table border=\"1\" class=\"dataframe\">\n",
       "  <thead>\n",
       "    <tr style=\"text-align: right;\">\n",
       "      <th></th>\n",
       "    </tr>\n",
       "  </thead>\n",
       "  <tbody>\n",
       "  </tbody>\n",
       "</table>\n",
       "</div>"
      ],
      "text/plain": [
       "Empty DataFrame\n",
       "Columns: []\n",
       "Index: []"
      ]
     },
     "metadata": {},
     "output_type": "display_data"
    }
   ],
   "source": [
    "import pandas as pd\n",
    "import requests\n",
    "\n",
    "pd.set_option('display.max_columns', None) \n",
    "pd.set_option('display.max_colwidth', None) \n",
    "\n",
    "\n",
    "# URL containing the JSON data\n",
    "url = 'https://data.smartdublin.ie/api/3/action/datastore_search?resource_id=0d0f0de2-d82d-404e-8da2-d238de985532&limit=5&q=title:jones'\n",
    "\n",
    "response = requests.get(url)\n",
    "\n",
    "# Check if the request was successful\n",
    "if response.status_code == 200:\n",
    "    # Convert the JSON data to a dictionary\n",
    "    data = response.json()\n",
    "    \n",
    "    # Assuming the relevant data is in the 'records' part of the JSON structure\n",
    "    # This might need adjustment based on the actual structure of the JSON\n",
    "    if 'result' in data and 'records' in data['result']:\n",
    "        records = data['result']['records']\n",
    "        \n",
    "        # Convert the records to a DataFrame\n",
    "        df = pd.DataFrame(records)\n",
    "        \n",
    "        if '_full_text' in df.columns:\n",
    "            # Remove the 'fulltext' column from the DataFrame\n",
    "            df = df.drop('_full_text', axis=1)\n",
    "\n",
    "        if '_id' in df.columns:\n",
    "        # Remove the 'fulltext' column from the DataFrame\n",
    "            df = df.drop('_id', axis=1)\n",
    "\n",
    "        df = df.fillna(0)\n",
    "\n",
    "        # Calculate the percentage of zeros in each column\n",
    "        percent_zeros = (df == 0).mean() * 100\n",
    "        \n",
    "        # Find columns where 95% or more of the values are zeros\n",
    "        columns_to_drop = percent_zeros[percent_zeros >= 90].index\n",
    "        \n",
    "        # Drop these columns\n",
    "        #df.drop(columns_to_drop, axis=1, inplace=True)\n",
    "\n",
    "\n",
    "        # Display the first few rows of the DataFrame\n",
    "        display(df.head())\n",
    "    else:\n",
    "        print(\"The expected data structure was not found in the JSON response.\")\n",
    "else:\n",
    "    print(f\"Failed to fetch data. HTTP status code: {response.status_code}\")\n"
   ]
  },
  {
   "cell_type": "code",
   "execution_count": 3,
   "metadata": {},
   "outputs": [
    {
     "data": {
      "text/html": [
       "<div>\n",
       "<style scoped>\n",
       "    .dataframe tbody tr th:only-of-type {\n",
       "        vertical-align: middle;\n",
       "    }\n",
       "\n",
       "    .dataframe tbody tr th {\n",
       "        vertical-align: top;\n",
       "    }\n",
       "\n",
       "    .dataframe thead th {\n",
       "        text-align: right;\n",
       "    }\n",
       "</style>\n",
       "<table border=\"1\" class=\"dataframe\">\n",
       "  <thead>\n",
       "    <tr style=\"text-align: right;\">\n",
       "      <th></th>\n",
       "    </tr>\n",
       "  </thead>\n",
       "  <tbody>\n",
       "  </tbody>\n",
       "</table>\n",
       "</div>"
      ],
      "text/plain": [
       "Empty DataFrame\n",
       "Columns: []\n",
       "Index: []"
      ]
     },
     "execution_count": 3,
     "metadata": {},
     "output_type": "execute_result"
    }
   ],
   "source": [
    "df"
   ]
  },
  {
   "cell_type": "code",
   "execution_count": 4,
   "metadata": {},
   "outputs": [
    {
     "name": "stdout",
     "output_type": "stream",
     "text": [
      "Data read from URL: {\"help\": \"https://data.smartdublin.ie/api/3/action/help_show?name=datastore_search\", \"success\": true, \"result\": {\"include_total\": true, \"limit\": 5, \"q\": \"title:jones\", \"records_format\": \"objects\", \"resource_id\": \"0d0f0de2-d82d-404e-8da2-d238de985532\", \"total_estimation_threshold\": null, \"records\": [], \"fields\": [{\"id\": \"_id\", \"type\": \"int\"}, {\"id\": \"Time\", \"type\": \"timestamp\"}, {\"id\": \"Aston Quay/Fitzgeralds\", \"type\": \"numeric\"}, {\"id\": \"Aston Quay/Fitzgeralds IN\", \"type\": \"numeric\"}, {\"id\": \"Aston Quay/Fitzgeralds OUT\", \"type\": \"numeric\"}, {\"id\": \"Bachelors walk/Bachelors way\", \"type\": \"numeric\"}, {\"id\": \"Bachelors walk/Bachelors way IN\", \"type\": \"numeric\"}, {\"id\": \"Bachelors walk/Bachelors way OUT\", \"type\": \"numeric\"}, {\"id\": \"Baggot st lower/Wilton tce inbound\", \"type\": \"numeric\"}, {\"id\": \"Baggot st lower/Wilton tce inbound Pedestrians IN\", \"type\": \"numeric\"}, {\"id\": \"Baggot st lower/Wilton tce inbound Pedestrians OUT\", \"type\": \"numeric\"}, {\"id\": \"Baggot st upper/Mespil rd/Bank\", \"type\": \"numeric\"}, {\"id\": \"Baggot st upper/Mespil rd/Bank Pedestrians IN\", \"type\": \"numeric\"}, {\"id\": \"Baggot st upper/Mespil rd/Bank Pedestrians OUT\", \"type\": \"numeric\"}, {\"id\": \"Capel st/Mary street\", \"type\": \"numeric\"}, {\"id\": \"Capel st/Mary street Pedestrian IN\", \"type\": \"numeric\"}, {\"id\": \"Capel st/Mary street Pedestrian OUT\", \"type\": \"numeric\"}, {\"id\": \"College Green/Bank Of Ireland\", \"type\": \"numeric\"}, {\"id\": \"College Green/Bank Of Ireland IN\", \"type\": \"numeric\"}, {\"id\": \"College Green/Bank Of Ireland OUT\", \"type\": \"numeric\"}, {\"id\": \"College Green/Church Lane\", \"type\": \"numeric\"}, {\"id\": \"College Green/Church Lane IN\", \"type\": \"numeric\"}, {\"id\": \"College Green/Church Lane OUT\", \"type\": \"numeric\"}, {\"id\": \"College st/Westmoreland st\", \"type\": \"numeric\"}, {\"id\": \"College st/Westmoreland st IN\", \"type\": \"numeric\"}, {\"id\": \"College st/Westmoreland st OUT\", \"type\": \"numeric\"}, {\"id\": \"D'olier st/Burgh Quay\", \"type\": \"numeric\"}, {\"id\": \"D'olier st/Burgh Quay IN\", \"type\": \"numeric\"}, {\"id\": \"D'olier st/Burgh Quay OUT\", \"type\": \"numeric\"}, {\"id\": \"Dame Street/Londis\", \"type\": \"numeric\"}, {\"id\": \"Dame Street/Londis Pedestrian IN\", \"type\": \"numeric\"}, {\"id\": \"Dame Street/Londis Pedestrian OUT\", \"type\": \"numeric\"}, {\"id\": \"Dawson Street/Molesworth\", \"type\": \"numeric\"}, {\"id\": \"Dawson Street/Molesworth IN\", \"type\": \"numeric\"}, {\"id\": \"Dawson Street/Molesworth OUT\", \"type\": \"numeric\"}, {\"id\": \"Grafton st/Monsoon Pedestrian\", \"type\": \"numeric\"}, {\"id\": \"Grafton st/Monsoon Pedestrian IN\", \"type\": \"numeric\"}, {\"id\": \"Grafton st/Monsoon Pedestrian OUT\", \"type\": \"numeric\"}, {\"id\": \"Grafton Street / Nassau Street / Suffolk Street\", \"type\": \"numeric\"}, {\"id\": \"Grafton Street / Nassau Street / Suffolk Street IN\", \"type\": \"numeric\"}, {\"id\": \"Grafton Street / Nassau Street / Suffolk Street OUT\", \"type\": \"numeric\"}, {\"id\": \"Grafton Street/CompuB\", \"type\": \"numeric\"}, {\"id\": \"Grafton Street/CompuB IN\", \"type\": \"numeric\"}, {\"id\": \"Grafton Street/CompuB OUT\", \"type\": \"numeric\"}, {\"id\": \"Grand Canal st upp/Clanwilliam place\", \"type\": \"numeric\"}, {\"id\": \"Grand Canal st upp/Clanwilliam place Pedestrians IN\", \"type\": \"numeric\"}, {\"id\": \"Grand Canal st upp/Clanwilliam place Pedestrians OUT\", \"type\": \"numeric\"}, {\"id\": \"Grand Canal st upp/Clanwilliam place/Google\", \"type\": \"numeric\"}, {\"id\": \"Grand Canal st upp/Clanwilliam place/Google Pedestrians IN\", \"type\": \"numeric\"}, {\"id\": \"Grand Canal st upp/Clanwilliam place/Google Pedestrians OUT\", \"type\": \"numeric\"}, {\"id\": \"Henry Street/Coles Lane/Dunnes\", \"type\": \"numeric\"}, {\"id\": \"Henry Street/Coles Lane/Dunnes Pedestrian IN\", \"type\": \"numeric\"}, {\"id\": \"Henry Street/Coles Lane/Dunnes Pedestrian OUT\", \"type\": \"numeric\"}, {\"id\": \"Liffey st/Halfpenny Bridge\", \"type\": \"numeric\"}, {\"id\": \"Liffey st/Halfpenny Bridge  Pedestrian IN\", \"type\": \"numeric\"}, {\"id\": \"Liffey st/Halfpenny Bridge  Pedestrian OUT\", \"type\": \"numeric\"}, {\"id\": \"Mary st/Jervis st\", \"type\": \"numeric\"}, {\"id\": \"Mary st/Jervis st IN\", \"type\": \"numeric\"}, {\"id\": \"Mary st/Jervis st OUT\", \"type\": \"numeric\"}, {\"id\": \"Newcomen Bridge/Charleville mall inbound\", \"type\": \"numeric\"}, {\"id\": \"Newcomen Bridge/Charleville mall inbound Pedestrians IN\", \"type\": \"numeric\"}, {\"id\": \"Newcomen Bridge/Charleville mall inbound Pedestrians OUT\", \"type\": \"numeric\"}, {\"id\": \"Newcomen Bridge/Charleville mall outbound\", \"type\": \"numeric\"}, {\"id\": \"Newcomen Bridge/Charleville mall outbound Pedestrians IN\", \"type\": \"numeric\"}, {\"id\": \"Newcomen Bridge/Charleville mall outbound Pedestrians OUT\", \"type\": \"numeric\"}, {\"id\": \"North Wall Quay/Samuel Beckett bridge East\", \"type\": \"numeric\"}, {\"id\": \"North Wall Quay/Samuel Beckett bridge East Channel 1 IN\", \"type\": \"numeric\"}, {\"id\": \"North Wall Quay/Samuel Beckett bridge East Channel 2 OUT\", \"type\": \"numeric\"}, {\"id\": \"North Wall Quay/Samuel Beckett bridge West\", \"type\": \"numeric\"}, {\"id\": \"North Wall Quay/Samuel Beckett bridge West Pedestrians IN\", \"type\": \"numeric\"}, {\"id\": \"North Wall Quay/Samuel Beckett bridge West Pedestrians OUT\", \"type\": \"numeric\"}, {\"id\": \"O'Connell St/Parnell St/AIB\", \"type\": \"numeric\"}, {\"id\": \"O'Connell St/Parnell St/AIB IN\", \"type\": \"numeric\"}, {\"id\": \"O'Connell St/Parnell St/AIB OUT\", \"type\": \"numeric\"}, {\"id\": \"O'Connell St/Pennys Pedestrian\", \"type\": \"text\"}, {\"id\": \"O'Connell St/Pennys IN\", \"type\": \"text\"}, {\"id\": \"O'Connell St/Pennys OUT\", \"type\": \"text\"}, {\"id\": \"O'Connell st/Princes st North\", \"type\": \"numeric\"}, {\"id\": \"O'Connell st/Princes st North IN\", \"type\": \"numeric\"}, {\"id\": \"O'Connell st/Princes st North OUT\", \"type\": \"numeric\"}, {\"id\": \"Phibsborough Rd/Enniskerry Road\", \"type\": \"numeric\"}, {\"id\": \"Phibsborough Rd/Enniskerry Road Pedestrians IN\", \"type\": \"numeric\"}, {\"id\": \"Phibsborough Rd/Enniskerry Road Pedestrians OUT\", \"type\": \"numeric\"}, {\"id\": \"Phibsborough Rd/Munster St\", \"type\": \"text\"}, {\"id\": \"Phibsborough Rd/Munster St Peds IN\", \"type\": \"text\"}, {\"id\": \"Phibsborough Rd/Munster St Peds OUT\", \"type\": \"text\"}, {\"id\": \"Richmond st south/Portabello Harbour inbound\", \"type\": \"numeric\"}, {\"id\": \"Richmond st south/Portabello Harbour inbound Pedestrians IN\", \"type\": \"numeric\"}, {\"id\": \"Richmond st south/Portabello Harbour inbound Pedestrians OUT\", \"type\": \"numeric\"}, {\"id\": \"Richmond st south/Portabello Harbour outbound\", \"type\": \"numeric\"}, {\"id\": \"Richmond st south/Portabello Harbour outbound Pedestrians IN\", \"type\": \"numeric\"}, {\"id\": \"Richmond st south/Portabello Harbour outbound Pedestrians OUT\", \"type\": \"numeric\"}, {\"id\": \"Talbot st/Guineys\", \"type\": \"numeric\"}, {\"id\": \"Talbot st/Guineys IN\", \"type\": \"numeric\"}, {\"id\": \"Talbot st/Guineys OUT\", \"type\": \"numeric\"}, {\"id\": \"Talbot st/Murrays Pharmacy\", \"type\": \"numeric\"}, {\"id\": \"Talbot st/Murrays Pharmacy IN\", \"type\": \"numeric\"}, {\"id\": \"Talbot st/Murrays Pharmacy OUT\", \"type\": \"numeric\"}, {\"id\": \"Westmoreland Street East/Fleet street\", \"type\": \"numeric\"}, {\"id\": \"Westmoreland Street East/Fleet street IN\", \"type\": \"numeric\"}, {\"id\": \"Westmoreland Street East/Fleet street OUT\", \"type\": \"numeric\"}, {\"id\": \"Westmoreland Street West/Carrolls\", \"type\": \"numeric\"}, {\"id\": \"Westmoreland Street West/Carrolls IN\", \"type\": \"numeric\"}, {\"id\": \"Westmoreland Street West/Carrolls OUT\", \"type\": \"numeric\"}, {\"id\": \"rank\", \"type\": \"float\"}], \"_links\": {\"start\": \"/api/3/action/datastore_search?resource_id=0d0f0de2-d82d-404e-8da2-d238de985532&limit=5&q=title%3Ajones\", \"next\": \"/api/3/action/datastore_search?resource_id=0d0f0de2-d82d-404e-8da2-d238de985532&limit=5&q=title%3Ajones&offset=5\"}, \"total\": 0, \"total_was_estimated\": false}}\n"
     ]
    }
   ],
   "source": [
    "import requests\n",
    "def read_data_from_url(url):\n",
    "    try:\n",
    "        response = requests.get(url)\n",
    "        if response.status_code == 200:\n",
    "            return response.text\n",
    "        else:\n",
    "            print(\"Failed to fetch data from URL:\", response.status_code)\n",
    "            return None\n",
    "    except Exception as e:\n",
    "        print(\"An error occurred:\", e)\n",
    "        return None      \n",
    "url = \"https://data.smartdublin.ie/api/3/action/datastore_search?resource_id=0d0f0de2-d82d-404e-8da2-d238de985532&limit=5&q=title:jones\"\n",
    "data = read_data_from_url(url)\n",
    "if data:\n",
    "        print(\"Data read from URL:\", data)\n",
    "else:\n",
    "        print(\"Failed to read data from URL.\")\n",
    "      "
   ]
  },
  {
   "cell_type": "code",
   "execution_count": null,
   "metadata": {},
   "outputs": [],
   "source": []
  },
  {
   "cell_type": "code",
   "execution_count": 5,
   "metadata": {},
   "outputs": [
    {
     "data": {
      "text/plain": [
       "Index([], dtype='int64')"
      ]
     },
     "execution_count": 5,
     "metadata": {},
     "output_type": "execute_result"
    }
   ],
   "source": [
    "columns_to_drop"
   ]
  },
  {
   "cell_type": "code",
   "execution_count": 6,
   "metadata": {},
   "outputs": [
    {
     "data": {
      "text/plain": [
       "Series([], dtype: float64)"
      ]
     },
     "execution_count": 6,
     "metadata": {},
     "output_type": "execute_result"
    }
   ],
   "source": [
    "df.isnull().sum()"
   ]
  }
 ],
 "metadata": {
  "kernelspec": {
   "display_name": "base",
   "language": "python",
   "name": "python3"
  },
  "language_info": {
   "codemirror_mode": {
    "name": "ipython",
    "version": 3
   },
   "file_extension": ".py",
   "mimetype": "text/x-python",
   "name": "python",
   "nbconvert_exporter": "python",
   "pygments_lexer": "ipython3",
   "version": "3.12.3"
  }
 },
 "nbformat": 4,
 "nbformat_minor": 2
}
